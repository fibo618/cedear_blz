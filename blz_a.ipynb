{
  "nbformat": 4,
  "nbformat_minor": 0,
  "metadata": {
    "colab": {
      "provenance": [],
      "toc_visible": true,
      "authorship_tag": "ABX9TyPOkTkNlkRbCigBk0J6RnQG",
      "include_colab_link": true
    },
    "kernelspec": {
      "name": "python3",
      "display_name": "Python 3"
    },
    "language_info": {
      "name": "python"
    }
  },
  "cells": [
    {
      "cell_type": "markdown",
      "metadata": {
        "id": "view-in-github",
        "colab_type": "text"
      },
      "source": [
        "<a href=\"https://colab.research.google.com/github/fibo618/cedear_blz/blob/main/blz_a.ipynb\" target=\"_parent\"><img src=\"https://colab.research.google.com/assets/colab-badge.svg\" alt=\"Open In Colab\"/></a>"
      ]
    },
    {
      "cell_type": "code",
      "source": [
        "# instalar librerías necesarias\n",
        "!pip install pandas\n",
        "!pip install yfinance\n",
        "!pip install pandas-datareader\n",
        "\n",
        "# Importar librerías\n",
        "\n",
        "# Pandas\n",
        "import numpy as np\n",
        "import pandas as pd\n",
        "\n",
        "# Otras\n",
        "import matplotlib.pyplot as plt\n",
        "import datetime as dt\n",
        "from random import sample\n",
        "import seaborn as sns\n",
        "\n",
        "import pandas_datareader as web # pip install pandas-datareader\n",
        "import yfinance as yf # pip install yfinance\n",
        "\n",
        "# Montar Google Drive para acceder a los archivos de la carpeta\n",
        "from google.colab import drive\n",
        "drive.mount('/content/drive')\n",
        "\n",
        "import os\n",
        "# Modifica la siguiente instrucción si guardaste la carpeta\n",
        "# en una ubicación diferente a \"My Drive\"\n",
        "folder_path ='/content/drive/My Drive'\n",
        "os.chdir(folder_path) # Change directory\n",
        "print(\"Nuevo directorio de trabajo: \")\n",
        "!pwd\n",
        "\n",
        "# Revisar los archivos en el nuevo directorio\n",
        "!ls\n"
      ],
      "metadata": {
        "colab": {
          "base_uri": "https://localhost:8080/"
        },
        "id": "gkPzDmOkpuad",
        "outputId": "ffd70810-b0cd-464a-94af-49fea93b7507"
      },
      "execution_count": 1,
      "outputs": [
        {
          "output_type": "stream",
          "name": "stdout",
          "text": [
            "Requirement already satisfied: pandas in /usr/local/lib/python3.10/dist-packages (2.0.3)\n",
            "Requirement already satisfied: python-dateutil>=2.8.2 in /usr/local/lib/python3.10/dist-packages (from pandas) (2.8.2)\n",
            "Requirement already satisfied: pytz>=2020.1 in /usr/local/lib/python3.10/dist-packages (from pandas) (2023.4)\n",
            "Requirement already satisfied: tzdata>=2022.1 in /usr/local/lib/python3.10/dist-packages (from pandas) (2024.1)\n",
            "Requirement already satisfied: numpy>=1.21.0 in /usr/local/lib/python3.10/dist-packages (from pandas) (1.25.2)\n",
            "Requirement already satisfied: six>=1.5 in /usr/local/lib/python3.10/dist-packages (from python-dateutil>=2.8.2->pandas) (1.16.0)\n",
            "Requirement already satisfied: yfinance in /usr/local/lib/python3.10/dist-packages (0.2.40)\n",
            "Requirement already satisfied: pandas>=1.3.0 in /usr/local/lib/python3.10/dist-packages (from yfinance) (2.0.3)\n",
            "Requirement already satisfied: numpy>=1.16.5 in /usr/local/lib/python3.10/dist-packages (from yfinance) (1.25.2)\n",
            "Requirement already satisfied: requests>=2.31 in /usr/local/lib/python3.10/dist-packages (from yfinance) (2.31.0)\n",
            "Requirement already satisfied: multitasking>=0.0.7 in /usr/local/lib/python3.10/dist-packages (from yfinance) (0.0.11)\n",
            "Requirement already satisfied: lxml>=4.9.1 in /usr/local/lib/python3.10/dist-packages (from yfinance) (4.9.4)\n",
            "Requirement already satisfied: platformdirs>=2.0.0 in /usr/local/lib/python3.10/dist-packages (from yfinance) (4.2.2)\n",
            "Requirement already satisfied: pytz>=2022.5 in /usr/local/lib/python3.10/dist-packages (from yfinance) (2023.4)\n",
            "Requirement already satisfied: frozendict>=2.3.4 in /usr/local/lib/python3.10/dist-packages (from yfinance) (2.4.4)\n",
            "Requirement already satisfied: peewee>=3.16.2 in /usr/local/lib/python3.10/dist-packages (from yfinance) (3.17.5)\n",
            "Requirement already satisfied: beautifulsoup4>=4.11.1 in /usr/local/lib/python3.10/dist-packages (from yfinance) (4.12.3)\n",
            "Requirement already satisfied: html5lib>=1.1 in /usr/local/lib/python3.10/dist-packages (from yfinance) (1.1)\n",
            "Requirement already satisfied: soupsieve>1.2 in /usr/local/lib/python3.10/dist-packages (from beautifulsoup4>=4.11.1->yfinance) (2.5)\n",
            "Requirement already satisfied: six>=1.9 in /usr/local/lib/python3.10/dist-packages (from html5lib>=1.1->yfinance) (1.16.0)\n",
            "Requirement already satisfied: webencodings in /usr/local/lib/python3.10/dist-packages (from html5lib>=1.1->yfinance) (0.5.1)\n",
            "Requirement already satisfied: python-dateutil>=2.8.2 in /usr/local/lib/python3.10/dist-packages (from pandas>=1.3.0->yfinance) (2.8.2)\n",
            "Requirement already satisfied: tzdata>=2022.1 in /usr/local/lib/python3.10/dist-packages (from pandas>=1.3.0->yfinance) (2024.1)\n",
            "Requirement already satisfied: charset-normalizer<4,>=2 in /usr/local/lib/python3.10/dist-packages (from requests>=2.31->yfinance) (3.3.2)\n",
            "Requirement already satisfied: idna<4,>=2.5 in /usr/local/lib/python3.10/dist-packages (from requests>=2.31->yfinance) (3.7)\n",
            "Requirement already satisfied: urllib3<3,>=1.21.1 in /usr/local/lib/python3.10/dist-packages (from requests>=2.31->yfinance) (2.0.7)\n",
            "Requirement already satisfied: certifi>=2017.4.17 in /usr/local/lib/python3.10/dist-packages (from requests>=2.31->yfinance) (2024.2.2)\n",
            "Requirement already satisfied: pandas-datareader in /usr/local/lib/python3.10/dist-packages (0.10.0)\n",
            "Requirement already satisfied: lxml in /usr/local/lib/python3.10/dist-packages (from pandas-datareader) (4.9.4)\n",
            "Requirement already satisfied: pandas>=0.23 in /usr/local/lib/python3.10/dist-packages (from pandas-datareader) (2.0.3)\n",
            "Requirement already satisfied: requests>=2.19.0 in /usr/local/lib/python3.10/dist-packages (from pandas-datareader) (2.31.0)\n",
            "Requirement already satisfied: python-dateutil>=2.8.2 in /usr/local/lib/python3.10/dist-packages (from pandas>=0.23->pandas-datareader) (2.8.2)\n",
            "Requirement already satisfied: pytz>=2020.1 in /usr/local/lib/python3.10/dist-packages (from pandas>=0.23->pandas-datareader) (2023.4)\n",
            "Requirement already satisfied: tzdata>=2022.1 in /usr/local/lib/python3.10/dist-packages (from pandas>=0.23->pandas-datareader) (2024.1)\n",
            "Requirement already satisfied: numpy>=1.21.0 in /usr/local/lib/python3.10/dist-packages (from pandas>=0.23->pandas-datareader) (1.25.2)\n",
            "Requirement already satisfied: charset-normalizer<4,>=2 in /usr/local/lib/python3.10/dist-packages (from requests>=2.19.0->pandas-datareader) (3.3.2)\n",
            "Requirement already satisfied: idna<4,>=2.5 in /usr/local/lib/python3.10/dist-packages (from requests>=2.19.0->pandas-datareader) (3.7)\n",
            "Requirement already satisfied: urllib3<3,>=1.21.1 in /usr/local/lib/python3.10/dist-packages (from requests>=2.19.0->pandas-datareader) (2.0.7)\n",
            "Requirement already satisfied: certifi>=2017.4.17 in /usr/local/lib/python3.10/dist-packages (from requests>=2.19.0->pandas-datareader) (2024.2.2)\n",
            "Requirement already satisfied: six>=1.5 in /usr/local/lib/python3.10/dist-packages (from python-dateutil>=2.8.2->pandas>=0.23->pandas-datareader) (1.16.0)\n",
            "Mounted at /content/drive\n",
            "Nuevo directorio de trabajo: \n",
            "/content/drive/My Drive\n",
            " blz.xlsx\n",
            " Case_2566_2799_2688_Service_Manual_Combine_84465947.pdf\n",
            "'certificado de nacimiento.jpg'\n",
            "'certificado_SERRA (1).pdf'\n",
            "'certificado_SERRA (2).pdf'\n",
            " certificado_SERRA.pdf\n",
            "'Colab Notebooks'\n",
            " cursopython.com\n",
            "'Datos históricos Futuros maíz EE.UU..csv'\n",
            " Eco-spinning.mp4\n",
            "'https:  paysrv2.pagomiscuentas.com pmctas pagoFactura.do.pdf'\n",
            " List_CEDEARS.xlsx\n",
            " PRECIOS.YFINANCE.xlsx\n",
            "'Saved Pictures'\n",
            "'Screenity video - Feb 17, 2024.webm'\n",
            "'Screenity video - Feb 24, 2024.webm'\n",
            "'Screenity video - May 22, 2024.webm'\n",
            " yfinancemiaz.csv\n"
          ]
        }
      ]
    },
    {
      "cell_type": "code",
      "execution_count": 2,
      "metadata": {
        "colab": {
          "base_uri": "https://localhost:8080/"
        },
        "id": "vzF-EUThprxi",
        "outputId": "df0a8ae3-5eef-49da-e635-708d5419a314"
      },
      "outputs": [
        {
          "output_type": "stream",
          "name": "stdout",
          "text": [
            "       Operacion     Estado Ticker       Fecha  Cantidad\n",
            "0     Venta 48hs  Ejecutada     IP  10/05/2024       1.0\n",
            "1     Venta 48hs  Ejecutada     IP  10/05/2024       1.0\n",
            "9    Compra 48hs  Ejecutada     IP  24/04/2024       3.0\n",
            "4     Venta 48hs  Ejecutada   ABEV  06/05/2024       8.0\n",
            "97    Venta 48hs  Ejecutada   ABEV  15/12/2023       2.0\n",
            "..           ...        ...    ...         ...       ...\n",
            "557  Compra 48hs  Ejecutada    PFE  15/03/2023       3.0\n",
            "512   Venta 48hs  Ejecutada    AMX  23/06/2023       3.0\n",
            "549  Compra 48hs  Ejecutada    AMX  31/05/2023       3.0\n",
            "514   Venta 48hs  Ejecutada     BP  23/06/2023       9.0\n",
            "517  Compra 48hs  Ejecutada     BP  21/06/2023       9.0\n",
            "\n",
            "[176 rows x 5 columns]\n"
          ]
        }
      ],
      "source": [
        "\n",
        "import pandas as pd\n",
        "\n",
        "# Leer archivo Excel con los datos principales\n",
        "filename = 'blz.xlsx'  # Reemplaza con el nombre de tu archivo\n",
        "df = pd.read_excel(filename)\n",
        "\n",
        "# Leer archivo Excel con la lista de tickers a verificar\n",
        "file_CED = 'List_CEDEARS.xlsx'  # Reemplaza con el nombre de tu archivo\n",
        "df_CED = pd.read_excel(file_CED)\n",
        "\n",
        "# Suponemos que la columna con los tickers en df_CED se llama 'Ticker'\n",
        "tickers_a_verificar = df_CED['Ticker'].unique().tolist()  # Convertimos a lista\n",
        "\n",
        "# Eliminar filas donde 'Estado' es 'Cancelada' o 'Rechazada'\n",
        "df = df[~df['Estado'].isin(['Cancelada', 'Rechazada'])]\n",
        "\n",
        "# Lista de etiquetas de columnas a eliminar\n",
        "columnas_a_eliminar = ['id Orden', 'Precio Operado', 'Cantidad Operada', 'Hora', 'Monto', 'Precio', 'Moneda']\n",
        "\n",
        "# Eliminar las columnas especificadas\n",
        "df = df.drop(columns=columnas_a_eliminar)\n",
        "\n",
        "# Paso 2: Definir una lista para almacenar los DataFrames seleccionados\n",
        "selected_dfs = []\n",
        "\n",
        "# Paso 3: Iterar por cada valor en la columna 'Ticker' del DataFrame principal y verificar si está en la lista de tickers a verificar\n",
        "unique_tickers = df['Ticker'].unique()\n",
        "\n",
        "for ticker in unique_tickers:\n",
        "    if ticker in tickers_a_verificar:\n",
        "        # Paso 4: Guardar en la lista todas las filas que contengan el valor actual en la columna 'Ticker'\n",
        "        selected_rows = df[df['Ticker'] == ticker]\n",
        "        selected_dfs.append(selected_rows)\n",
        "\n",
        "# Paso 5: Concatenar los DataFrames seleccionados en uno solo si hay alguno seleccionado\n",
        "if selected_dfs:\n",
        "    final_df = pd.concat(selected_dfs)\n",
        "    # Paso 6: Imprimir el DataFrame final\n",
        "    print(final_df)\n",
        "else:\n",
        "    print(\"No se seleccionaron DataFrames.\")"
      ]
    }
  ]
}